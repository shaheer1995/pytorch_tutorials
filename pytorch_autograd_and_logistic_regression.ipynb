{
  "nbformat": 4,
  "nbformat_minor": 0,
  "metadata": {
    "colab": {
      "name": "pytorch_autograd_and_logistic_regression.ipynb",
      "provenance": [],
      "collapsed_sections": []
    },
    "kernelspec": {
      "name": "python3",
      "display_name": "Python 3"
    },
    "accelerator": "GPU"
  },
  "cells": [
    {
      "cell_type": "markdown",
      "metadata": {
        "id": "cdJ1mi5xIV7j"
      },
      "source": [
        "Autograd Introduction\n"
      ]
    },
    {
      "cell_type": "code",
      "metadata": {
        "id": "jfblnCyNGB3f"
      },
      "source": [
        "import torch"
      ],
      "execution_count": 1,
      "outputs": []
    },
    {
      "cell_type": "code",
      "metadata": {
        "id": "iJS1pvxZGRfa",
        "outputId": "ec7b8e08-42ef-4bc1-c27e-c47e38e59952",
        "colab": {
          "base_uri": "https://localhost:8080/",
          "height": 34
        }
      },
      "source": [
        "x = torch.rand(3, requires_grad = True)\n",
        "print(x)"
      ],
      "execution_count": 2,
      "outputs": [
        {
          "output_type": "stream",
          "text": [
            "tensor([0.1884, 0.7729, 0.3795], requires_grad=True)\n"
          ],
          "name": "stdout"
        }
      ]
    },
    {
      "cell_type": "code",
      "metadata": {
        "id": "R4umSDEiGYdo",
        "outputId": "a2cc606f-d71d-4016-f0f8-dc0774d2cf77",
        "colab": {
          "base_uri": "https://localhost:8080/",
          "height": 34
        }
      },
      "source": [
        "y = x+2\n",
        "print(y)"
      ],
      "execution_count": 3,
      "outputs": [
        {
          "output_type": "stream",
          "text": [
            "tensor([2.1884, 2.7729, 2.3795], grad_fn=<AddBackward0>)\n"
          ],
          "name": "stdout"
        }
      ]
    },
    {
      "cell_type": "code",
      "metadata": {
        "id": "jWYsHzQ6A_WF",
        "outputId": "2a16c63f-eaed-4d4a-f3ea-cfd43e1ca278",
        "colab": {
          "base_uri": "https://localhost:8080/",
          "height": 50
        }
      },
      "source": [
        "z = y*y*2\n",
        "print(z)\n",
        "\n",
        "z = z.mean()\n",
        "print(z)"
      ],
      "execution_count": 4,
      "outputs": [
        {
          "output_type": "stream",
          "text": [
            "tensor([ 9.5783, 15.3780, 11.3239], grad_fn=<MulBackward0>)\n",
            "tensor(12.0934, grad_fn=<MeanBackward0>)\n"
          ],
          "name": "stdout"
        }
      ]
    },
    {
      "cell_type": "code",
      "metadata": {
        "id": "J-qWSZUlBq44",
        "outputId": "3bb1b8e6-c53c-47f1-83a5-f96416fb830c",
        "colab": {
          "base_uri": "https://localhost:8080/",
          "height": 34
        }
      },
      "source": [
        "z.backward()\n",
        "print(x.grad)"
      ],
      "execution_count": 5,
      "outputs": [
        {
          "output_type": "stream",
          "text": [
            "tensor([2.9179, 3.6972, 3.1726])\n"
          ],
          "name": "stdout"
        }
      ]
    },
    {
      "cell_type": "code",
      "metadata": {
        "id": "ZNwGCrjsCTJo",
        "outputId": "6739d4c8-2b3e-4265-9cca-ac9c6e525fa9",
        "colab": {
          "base_uri": "https://localhost:8080/",
          "height": 34
        }
      },
      "source": [
        " #prevent tracking gradients\n",
        " # 3 options\n",
        " \n",
        "# x.requires_grad_(False)\n",
        "# print(x)\n",
        "\n",
        "# y = x.detach()\n",
        "# print(y)\n",
        "\n",
        "with torch.no_grad():\n",
        "  y = x+2\n",
        "  print(y)\n"
      ],
      "execution_count": 6,
      "outputs": [
        {
          "output_type": "stream",
          "text": [
            "tensor([2.1884, 2.7729, 2.3795])\n"
          ],
          "name": "stdout"
        }
      ]
    },
    {
      "cell_type": "markdown",
      "metadata": {
        "id": "wQTdPv3gVvm_"
      },
      "source": [
        "Basic steps of a neural networks\n",
        "1.   Forward Pass\n",
        "2.   Compute Local Gradient\n",
        "3.   Backward Pass"
      ]
    },
    {
      "cell_type": "code",
      "metadata": {
        "id": "_Xxlf44_E7iO",
        "outputId": "4bf9d483-1391-4e28-cbd2-b1da2a423436",
        "colab": {
          "base_uri": "https://localhost:8080/",
          "height": 50
        }
      },
      "source": [
        "x = torch.tensor(1.0)\n",
        "y = torch.tensor(2.0)\n",
        "\n",
        "w = torch.tensor(1.0, requires_grad=True)\n",
        "\n",
        "#Forward Pass and compute loss\n",
        "y_hat = w*x\n",
        "loss = (y_hat - y)**2\n",
        "\n",
        "print(loss)\n",
        "\n",
        "#Backward Pass\n",
        "\n",
        "loss.backward()\n",
        "\n",
        "print(w.grad)\n",
        "\n",
        "## Update weight and continue\n",
        "\n"
      ],
      "execution_count": 7,
      "outputs": [
        {
          "output_type": "stream",
          "text": [
            "tensor(1., grad_fn=<PowBackward0>)\n",
            "tensor(-2.)\n"
          ],
          "name": "stdout"
        }
      ]
    },
    {
      "cell_type": "markdown",
      "metadata": {
        "id": "ftqpyciJI19n"
      },
      "source": [
        "Implementing Linear Regression without Autograd"
      ]
    },
    {
      "cell_type": "code",
      "metadata": {
        "id": "YhFjUDTz_BpA",
        "outputId": "15fb91ce-1421-4734-c1ba-a490bf0c6f61",
        "colab": {
          "base_uri": "https://localhost:8080/",
          "height": 218
        }
      },
      "source": [
        "import numpy as np\n",
        "\n",
        "#f=2*x\n",
        "\n",
        "X = np.array([1,2,3,4],dtype=np.float32)\n",
        "Y = np.array([2,4,6,8],dtype=np.float32)\n",
        "\n",
        "w = 0\n",
        "\n",
        "#model prediction\n",
        "def forward(x):\n",
        "  return w*x\n",
        "\n",
        "#loss = MSE\n",
        "def loss(y,y_pred):\n",
        "  return ((y_pred-y)**2).mean()\n",
        "\n",
        "#gradient\n",
        "#MSE = 1/N * (w*x-y)**2\n",
        "#dJ/dw = 1/N 2x - y\n",
        "\n",
        "def gradient(x,y,y_pred):\n",
        "  return np.dot(2*x, y_pred-y).mean()\n",
        "\n",
        "\n",
        "print(f'Prediction before training : f(5) = {forward(5):.3f} ')\n",
        "\n",
        "#Training\n",
        "learning_rate = 0.01\n",
        "n_itr = 20\n",
        "\n",
        "for epoch in range(n_itr):\n",
        "  #forward pass\n",
        "  y_pred = forward(X)\n",
        "\n",
        "  #compute loss\n",
        "  l = loss(Y,y_pred)\n",
        "\n",
        "  #gradients\n",
        "  dw = gradient(X,Y,y_pred)\n",
        "\n",
        "  #update weights\n",
        "  w -=(learning_rate * dw)\n",
        "\n",
        "  if epoch%2 == 0:\n",
        "    print(f'epoch : {epoch+1} : w = {w: .3f}, loss = {l: .3f} ')\n",
        "\n",
        "print(f'Prediction after training : f(5) = {forward(5):.3f} ')\n",
        "\n",
        "\n",
        "\n"
      ],
      "execution_count": 8,
      "outputs": [
        {
          "output_type": "stream",
          "text": [
            "Prediction before training : f(5) = 0.000 \n",
            "epoch : 1 : w =  1.200, loss =  30.000 \n",
            "epoch : 3 : w =  1.872, loss =  0.768 \n",
            "epoch : 5 : w =  1.980, loss =  0.020 \n",
            "epoch : 7 : w =  1.997, loss =  0.001 \n",
            "epoch : 9 : w =  1.999, loss =  0.000 \n",
            "epoch : 11 : w =  2.000, loss =  0.000 \n",
            "epoch : 13 : w =  2.000, loss =  0.000 \n",
            "epoch : 15 : w =  2.000, loss =  0.000 \n",
            "epoch : 17 : w =  2.000, loss =  0.000 \n",
            "epoch : 19 : w =  2.000, loss =  0.000 \n",
            "Prediction after training : f(5) = 10.000 \n"
          ],
          "name": "stdout"
        }
      ]
    },
    {
      "cell_type": "markdown",
      "metadata": {
        "id": "jcLiNe0xXCzb"
      },
      "source": [
        "Using Autograd\n"
      ]
    },
    {
      "cell_type": "code",
      "metadata": {
        "id": "V026L6go_pPU",
        "outputId": "4df139d2-12fe-4823-d214-0c1ea67cb92a",
        "colab": {
          "base_uri": "https://localhost:8080/",
          "height": 235
        }
      },
      "source": [
        "# 1) Design the model (input,output,forward pass)\n",
        "# 2) Construct the loss and optimizer\n",
        "# 3) Training Loop  \n",
        "#    *forward pass : compute predction\n",
        "#    *backward pass : gradients\n",
        "#    *update weights\n",
        "\n",
        "import torch\n",
        "import torch.nn as nn\n",
        "\n",
        "X = torch.tensor([[1],[2],[3],[4]],dtype=torch.float32)\n",
        "Y = torch.tensor([[2],[4],[6],[8]],dtype=torch.float32)\n",
        "\n",
        "x_test = torch.tensor([5],dtype=torch.float32)\n",
        "n_samples,n_features = X.shape\n",
        "print(n_samples,n_features)\n",
        "\n",
        "input_size = n_features\n",
        "output_size = n_features\n",
        "\n",
        "model = nn.Linear(input_size,output_size)\n",
        "\n",
        "print(f'Prediction before training : f(5) = {model(x_test).item():.3f} ')\n",
        "\n",
        "#Training\n",
        "learning_rate = 0.05\n",
        "n_itr = 100\n",
        "\n",
        "loss = nn.MSELoss()\n",
        "optimizer = torch.optim.SGD(model.parameters(),lr=learning_rate)\n",
        "\n",
        "for epoch in range(n_itr):\n",
        "  #forward pass\n",
        "  y_pred = model(X)\n",
        "\n",
        "  #compute loss\n",
        "  l = loss(Y,y_pred)\n",
        "\n",
        "  #gradients = backward pass\n",
        "  l.backward() #dl/dw\n",
        "  \n",
        "\n",
        "  #update weights\n",
        "  optimizer.step()\n",
        "\n",
        "  optimizer.zero_grad()\n",
        "\n",
        "  if epoch%10 == 0:\n",
        "    [w,b] = model.parameters()\n",
        "    print(f'epoch : {epoch+1} : w = {w[0][0].item(): .3f}, loss = {l: .3f} ')\n",
        "\n",
        "print(f'Prediction after training : f(5) = {model(x_test).item():.3f} ')\n"
      ],
      "execution_count": 9,
      "outputs": [
        {
          "output_type": "stream",
          "text": [
            "4 1\n",
            "Prediction before training : f(5) = 5.118 \n",
            "epoch : 1 : w =  1.658, loss =  6.545 \n",
            "epoch : 11 : w =  1.824, loss =  0.046 \n",
            "epoch : 21 : w =  1.849, loss =  0.034 \n",
            "epoch : 31 : w =  1.870, loss =  0.025 \n",
            "epoch : 41 : w =  1.888, loss =  0.019 \n",
            "epoch : 51 : w =  1.904, loss =  0.014 \n",
            "epoch : 61 : w =  1.917, loss =  0.010 \n",
            "epoch : 71 : w =  1.929, loss =  0.008 \n",
            "epoch : 81 : w =  1.939, loss =  0.006 \n",
            "epoch : 91 : w =  1.947, loss =  0.004 \n",
            "Prediction after training : f(5) = 9.905 \n"
          ],
          "name": "stdout"
        }
      ]
    },
    {
      "cell_type": "markdown",
      "metadata": {
        "id": "_Lx1YVb8nYsJ"
      },
      "source": [
        "Linear Regression "
      ]
    },
    {
      "cell_type": "code",
      "metadata": {
        "id": "ISxXcgTXQd5O",
        "outputId": "a1cd1474-9d41-4e48-859a-5aec9737da5c",
        "colab": {
          "base_uri": "https://localhost:8080/",
          "height": 433
        }
      },
      "source": [
        "import torch\n",
        "import torch.nn as nn\n",
        "import numpy as np\n",
        "from sklearn import datasets \n",
        "import matplotlib.pyplot as plt\n",
        "\n",
        "X_numpy, Y_numpy = datasets.make_regression(n_samples=100,n_features=1,noise=20,random_state=1)  \n",
        "\n",
        "X = torch.from_numpy(X_numpy.astype(np.float32))\n",
        "Y = torch.from_numpy(Y_numpy.astype(np.float32))\n",
        "\n",
        "Y = Y.view(Y.shape[0],1)\n",
        "\n",
        "n_samples,n_features = X.shape\n",
        "\n",
        "input_size = n_features\n",
        "output_size = 1\n",
        "model =  nn.Linear(input_size,output_size)\n",
        "\n",
        "learning_rate = 0.01\n",
        "criterion = nn.MSELoss()\n",
        "optimizer = torch.optim.SGD(model.parameters(),lr=learning_rate)\n",
        "\n",
        "num_epochs = 100\n",
        "\n",
        "for epoch in range(num_epochs):\n",
        "\n",
        "  y_pred = model(X)\n",
        "  loss = criterion(y_pred,Y)\n",
        "\n",
        "  loss.backward()\n",
        "\n",
        "  optimizer.step()\n",
        "\n",
        "  optimizer.zero_grad()\n",
        "\n",
        "  if (epoch+1)%10 == 0:\n",
        "    print(f'epoch {epoch+1}, loss = {loss.item():.3f}')\n",
        "\n",
        "#plot\n",
        "predicted = model(X).detach().numpy()\n",
        "plt.plot(X_numpy,Y_numpy,'ro')\n",
        "plt.plot(X_numpy,predicted,'b')\n",
        "plt.show()\n",
        "\n",
        "\n",
        "\n"
      ],
      "execution_count": 10,
      "outputs": [
        {
          "output_type": "stream",
          "text": [
            "epoch 10, loss = 4383.021\n",
            "epoch 20, loss = 3271.298\n",
            "epoch 30, loss = 2466.546\n",
            "epoch 40, loss = 1883.402\n",
            "epoch 50, loss = 1460.436\n",
            "epoch 60, loss = 1153.379\n",
            "epoch 70, loss = 930.285\n",
            "epoch 80, loss = 768.073\n",
            "epoch 90, loss = 650.047\n",
            "epoch 100, loss = 564.117\n"
          ],
          "name": "stdout"
        },
        {
          "output_type": "display_data",
          "data": {
            "image/png": "[encoded data removed]",
            "text/plain": [
              "<Figure size 432x288 with 1 Axes>"
            ]
          },
          "metadata": {
            "tags": [],
            "needs_background": "light"
          }
        }
      ]
    },
    {
      "cell_type": "markdown",
      "metadata": {
        "id": "PxtCobAVnyV5"
      },
      "source": [
        "Logistic Regression"
      ]
    },
    {
      "cell_type": "code",
      "metadata": {
        "id": "CNdt53Yqmz1p",
        "outputId": "e2c59055-a2b2-44df-f003-b9e6c9988947",
        "colab": {
          "base_uri": "https://localhost:8080/",
          "height": 202
        }
      },
      "source": [
        "import torch\n",
        "import torch.nn as nn\n",
        "import numpy as np\n",
        "from sklearn import datasets\n",
        "from sklearn.preprocessing import StandardScaler\n",
        "from sklearn.model_selection import train_test_split\n",
        "\n",
        "# Prepare data\n",
        "bc = datasets.load_breast_cancer()\n",
        "X, y = bc.data, bc.target\n",
        "\n",
        "n_samples, n_features = X.shape\n",
        "\n",
        "X_train, X_test, y_train, y_test = train_test_split(X, y, test_size=0.2, random_state=1234)\n",
        "\n",
        "# scale\n",
        "sc = StandardScaler()\n",
        "X_train = sc.fit_transform(X_train)\n",
        "X_test = sc.transform(X_test)\n",
        "\n",
        "X_train = torch.from_numpy(X_train.astype(np.float32))\n",
        "X_test = torch.from_numpy(X_test.astype(np.float32))\n",
        "y_train = torch.from_numpy(y_train.astype(np.float32))\n",
        "y_test = torch.from_numpy(y_test.astype(np.float32))\n",
        "\n",
        "y_train = y_train.view(y_train.shape[0], 1)\n",
        "y_test = y_test.view(y_test.shape[0], 1)\n",
        "\n",
        "#  Model\n",
        "class Model(nn.Module):\n",
        "    def __init__(self, n_input_features):\n",
        "        super(Model, self).__init__()\n",
        "        self.linear = nn.Linear(n_input_features, 1)\n",
        "\n",
        "    def forward(self, x):\n",
        "        y_pred = torch.sigmoid(self.linear(x))\n",
        "        return y_pred\n",
        "\n",
        "model = Model(n_features)\n",
        "\n",
        "# Loss and optimizer\n",
        "num_epochs = 100\n",
        "learning_rate = 0.01\n",
        "criterion = nn.BCELoss()\n",
        "optimizer = torch.optim.SGD(model.parameters(), lr=learning_rate)\n",
        "\n",
        "# Training loop\n",
        "for epoch in range(num_epochs):\n",
        "    # Forward pass and loss\n",
        "    y_pred = model(X_train)\n",
        "    loss = criterion(y_pred, y_train)\n",
        "\n",
        "    # Backward pass and update\n",
        "    loss.backward()\n",
        "    optimizer.step()\n",
        "\n",
        "    # zero grad before new step\n",
        "    optimizer.zero_grad()\n",
        "\n",
        "    if (epoch+1) % 10 == 0:\n",
        "        print(f'epoch: {epoch+1}, loss = {loss.item():.4f}')\n",
        "\n",
        "\n",
        "with torch.no_grad():\n",
        "    y_predicted = model(X_test)\n",
        "    y_predicted_cls = y_predicted.round()\n",
        "    acc = y_predicted_cls.eq(y_test).sum() / float(y_test.shape[0])\n",
        "    print(f'accuracy: {acc.item():.4f}')"
      ],
      "execution_count": 11,
      "outputs": [
        {
          "output_type": "stream",
          "text": [
            "epoch: 10, loss = 0.6984\n",
            "epoch: 20, loss = 0.5535\n",
            "epoch: 30, loss = 0.4676\n",
            "epoch: 40, loss = 0.4112\n",
            "epoch: 50, loss = 0.3712\n",
            "epoch: 60, loss = 0.3409\n",
            "epoch: 70, loss = 0.3170\n",
            "epoch: 80, loss = 0.2976\n",
            "epoch: 90, loss = 0.2813\n",
            "epoch: 100, loss = 0.2675\n",
            "accuracy: 0.8947\n"
          ],
          "name": "stdout"
        }
      ]
    },
    {
      "cell_type": "markdown",
      "metadata": {
        "id": "2x475BDXNper"
      },
      "source": [
        "Dataset and DataLoader - Batch Training\n"
      ]
    },
    {
      "cell_type": "code",
      "metadata": {
        "id": "7Ljzdc3kS7Ub",
        "outputId": "a07d2583-6c42-46e0-f5c6-1a7fb4134dc0",
        "colab": {
          "base_uri": "https://localhost:8080/",
          "height": 118
        }
      },
      "source": [
        "!git clone https://github.com/shaheer1995/pytorch_tutorials"
      ],
      "execution_count": 12,
      "outputs": [
        {
          "output_type": "stream",
          "text": [
            "Cloning into 'pytorch_tutorials'...\n",
            "remote: Enumerating objects: 6, done.\u001b[K\n",
            "remote: Counting objects: 100% (6/6), done.\u001b[K\n",
            "remote: Compressing objects: 100% (4/4), done.\u001b[K\n",
            "remote: Total 6 (delta 0), reused 6 (delta 0), pack-reused 0\u001b[K\n",
            "Unpacking objects: 100% (6/6), done.\n"
          ],
          "name": "stdout"
        }
      ]
    },
    {
      "cell_type": "code",
      "metadata": {
        "id": "xcufQUNZVM15"
      },
      "source": [
        "data_path = \"/content/pytorch_tutorials/data/wine/wine.csv\""
      ],
      "execution_count": 13,
      "outputs": []
    },
    {
      "cell_type": "code",
      "metadata": {
        "id": "yUvwJWkBMhY3",
        "outputId": "a4cbeb7e-6f27-41c6-98ea-5b8b0dfd8d18",
        "colab": {
          "base_uri": "https://localhost:8080/",
          "height": 336
        }
      },
      "source": [
        "import torch\n",
        "import torchvision\n",
        "from torch.utils.data import Dataset, DataLoader\n",
        "import numpy as np\n",
        "import math\n",
        "\n",
        "class WineDataset(Dataset):\n",
        "\n",
        "  def __init__(self):\n",
        "    xy = np.loadtxt(data_path,delimiter=\",\",dtype=np.float32,skiprows=1)\n",
        "    self.x = torch.from_numpy(xy[:,1:])\n",
        "    self.y = torch.from_numpy(xy[:,[0]])\n",
        "    self.n_samples = xy.shape[0]\n",
        "\n",
        "  def __getitem__(self,index):\n",
        "    return self.x[index],self.y[index]\n",
        "  def __len__(self):\n",
        "    return self.n_samples\n",
        "\n",
        "dataset = WineDataset()\n",
        "dataloader = DataLoader(dataset=dataset,batch_size=4,shuffle=True,num_workers=2)\n",
        "\n",
        "# dataiter = iter(dataloader)\n",
        "# data = dataiter.next()\n",
        "# features,labels = data\n",
        "# print(features,labels)\n",
        "\n",
        "num_epochs = 2\n",
        "total_samples = len(dataset)\n",
        "n_iterations = math.ceil(total_samples/4)\n",
        "print(total_samples,n_iterations)\n",
        "\n",
        "for epoch in range(num_epochs):\n",
        "  for i,(inputs, lables) in enumerate(dataloader):\n",
        "    if (i+1)%5 == 0:\n",
        "      print(f'epoch : {epoch+1}/{num_epochs}, step {i+1}/{n_iterations}, inputs {inputs.shape}')\n",
        "\n"
      ],
      "execution_count": 14,
      "outputs": [
        {
          "output_type": "stream",
          "text": [
            "178 45\n",
            "epoch : 1/2, step 5/45, inputs torch.Size([4, 13])\n",
            "epoch : 1/2, step 10/45, inputs torch.Size([4, 13])\n",
            "epoch : 1/2, step 15/45, inputs torch.Size([4, 13])\n",
            "epoch : 1/2, step 20/45, inputs torch.Size([4, 13])\n",
            "epoch : 1/2, step 25/45, inputs torch.Size([4, 13])\n",
            "epoch : 1/2, step 30/45, inputs torch.Size([4, 13])\n",
            "epoch : 1/2, step 35/45, inputs torch.Size([4, 13])\n",
            "epoch : 1/2, step 40/45, inputs torch.Size([4, 13])\n",
            "epoch : 1/2, step 45/45, inputs torch.Size([2, 13])\n",
            "epoch : 2/2, step 5/45, inputs torch.Size([4, 13])\n",
            "epoch : 2/2, step 10/45, inputs torch.Size([4, 13])\n",
            "epoch : 2/2, step 15/45, inputs torch.Size([4, 13])\n",
            "epoch : 2/2, step 20/45, inputs torch.Size([4, 13])\n",
            "epoch : 2/2, step 25/45, inputs torch.Size([4, 13])\n",
            "epoch : 2/2, step 30/45, inputs torch.Size([4, 13])\n",
            "epoch : 2/2, step 35/45, inputs torch.Size([4, 13])\n",
            "epoch : 2/2, step 40/45, inputs torch.Size([4, 13])\n",
            "epoch : 2/2, step 45/45, inputs torch.Size([2, 13])\n"
          ],
          "name": "stdout"
        }
      ]
    },
    {
      "cell_type": "markdown",
      "metadata": {
        "id": "C43tSNgN9zCP"
      },
      "source": [
        "Softmax and Cross entropy"
      ]
    },
    {
      "cell_type": "code",
      "metadata": {
        "id": "F0ZwdVhEkXk5",
        "outputId": "4af67b8f-49a3-436f-df1f-f7d9ffb97c7a",
        "colab": {
          "base_uri": "https://localhost:8080/",
          "height": 84
        }
      },
      "source": [
        "import torch\n",
        "import torch.nn as nn\n",
        "import numpy as np\n",
        "\n",
        "def softmax(x):\n",
        "  return np.exp(x)/np.sum(np.exp(x),axis=0)\n",
        "\n",
        "x = np.array([2.0, 1.0, 0.1])\n",
        "outputs = softmax(x)\n",
        "print('softmax numpy : ', outputs)\n",
        "\n",
        "y = torch.tensor([2.0,1.0,0.1])\n",
        "output = torch.softmax(y,dim=0)\n",
        "print(output)\n",
        "\n",
        "def cross_entropy(actual,predicted):\n",
        "  loss = -np.sum(actual*np.log(predicted))\n",
        "  return loss\n",
        "\n",
        "Y = np.array([1,0,0])\n",
        "\n",
        "Y_pred_good = np.array([0.7,0.2,0.1])\n",
        "Y_pred_bad = np.array([0.1,0.3,0.6])\n",
        "\n",
        "l1 = cross_entropy(Y,Y_pred_good)\n",
        "l2 = cross_entropy(Y,Y_pred_bad)\n",
        "\n",
        "print(f'Loss 1 numpy : {l1:.3f}')\n",
        "print(f'Loss 2 numpy : {l2:.3f}')"
      ],
      "execution_count": 15,
      "outputs": [
        {
          "output_type": "stream",
          "text": [
            "softmax numpy :  [0.65900114 0.24243297 0.09856589]\n",
            "tensor([0.6590, 0.2424, 0.0986])\n",
            "Loss 1 numpy : 0.357\n",
            "Loss 2 numpy : 2.303\n"
          ],
          "name": "stdout"
        }
      ]
    },
    {
      "cell_type": "code",
      "metadata": {
        "id": "6M61rfiPaK2r",
        "outputId": "e932dbf3-924f-439d-d68d-a0914db11982",
        "colab": {
          "base_uri": "https://localhost:8080/",
          "height": 84
        }
      },
      "source": [
        "import torch\n",
        "import torch.nn as nn\n",
        "import numpy as np\n",
        "\n",
        "loss = nn.CrossEntropyLoss()\n",
        "\n",
        "Y = torch.tensor([2,0,1])\n",
        "\n",
        "Y_pred_good = torch.tensor([[0.0,1.0,2.1],[2.0,1.0,0.1],[0.0,3.0,0.1]])\n",
        "Y_pred_bad = torch.tensor([[2.5,2.0,0.3],[0.1 ,2.0,2.3],[0.1,3.0,0.1]])\n",
        "\n",
        "l1 = loss(Y_pred_good,Y)\n",
        "l2 = loss(Y_pred_bad,Y)\n",
        "\n",
        "print(f'Loss 1 numpy : {l1.item():.3f}')\n",
        "print(f'Loss 2 numpy : {l2.item():.3f}')\n",
        "\n",
        "_, prediction1 = torch.max(Y_pred_good,1)\n",
        "_, prediction2 = torch.max(Y_pred_bad,1)\n",
        "\n",
        "print(prediction1)\n",
        "print(prediction2)\n"
      ],
      "execution_count": 16,
      "outputs": [
        {
          "output_type": "stream",
          "text": [
            "Loss 1 numpy : 0.297\n",
            "Loss 2 numpy : 1.887\n",
            "tensor([2, 0, 1])\n",
            "tensor([0, 2, 1])\n"
          ],
          "name": "stdout"
        }
      ]
    },
    {
      "cell_type": "markdown",
      "metadata": {
        "id": "_EBsrAlJ031v"
      },
      "source": [
        "Binary Classification"
      ]
    },
    {
      "cell_type": "code",
      "metadata": {
        "id": "ZdX8F91J01hQ"
      },
      "source": [
        "import torch\n",
        "import torch.nn as nn\n",
        "\n",
        "class NeuralNet1(nn.Module):\n",
        "\n",
        "  def __init__(self,input_size,hidden_size):\n",
        "    super(NeuralNet2,self).__init__()\n",
        "    self.linear1 = nn.Linear(input_size,hidden_size)\n",
        "    self.relu = nn.ReLU()\n",
        "    self.linear2 = nn.Linear(hidden_size,1)\n",
        "\n",
        "  def forward(self,x):\n",
        "    out = self.linear1(x)\n",
        "    out = self.relu(out)\n",
        "    out = self.linear2(out)\n",
        "    y_pred = torch.sigmoid(out)\n",
        "    return y_pred\n",
        "\n",
        "model = NeuralNet1(input_size=28*28, hidden_size = 5)\n",
        "criterion = nn.BCELoss()\n"
      ],
      "execution_count": null,
      "outputs": []
    },
    {
      "cell_type": "markdown",
      "metadata": {
        "id": "9loVAgU_1W6J"
      },
      "source": [
        "Multiclass Classification"
      ]
    },
    {
      "cell_type": "code",
      "metadata": {
        "id": "y2llYGHLb6c8"
      },
      "source": [
        "import torch\n",
        "import torch.nn as nn\n",
        "\n",
        "class NeuralNet2(nn.Module):\n",
        "\n",
        "  def __init__(self,input_size,hidden_size,num_classes):\n",
        "    super(NeuralNet2,self).__init__()\n",
        "    self.linear1 = nn.Linear(input_size,hidden_size)\n",
        "    self.relu = nn.ReLU()\n",
        "    self.linear2 = nn.Linear(hidden_size,num_classes)\n",
        "\n",
        "  def forward(self,x):\n",
        "    out = self.linear1(x)\n",
        "    out = self.relu(out)\n",
        "    out = self.linear2(out)\n",
        "    return out\n",
        "\n",
        "model = NeuralNet2(input_size=28*28, hidden_size = 5, num_classes = 3)\n",
        "criterion = nn.CrossEntropyLoss()\n",
        "\n",
        "\n",
        "\n",
        "\n"
      ],
      "execution_count": 18,
      "outputs": []
    }
  ]
}