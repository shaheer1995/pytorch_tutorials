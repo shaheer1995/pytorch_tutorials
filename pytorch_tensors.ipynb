{
  "nbformat": 4,
  "nbformat_minor": 0,
  "metadata": {
    "colab": {
      "name": "pytorch_tensors.ipynb",
      "provenance": []
    },
    "kernelspec": {
      "name": "python3",
      "display_name": "Python 3"
    },
    "accelerator": "GPU"
  },
  "cells": [
    {
      "cell_type": "code",
      "metadata": {
        "id": "LrhfWZ_By8F0"
      },
      "source": [
        "import torch"
      ],
      "execution_count": null,
      "outputs": []
    },
    {
      "cell_type": "code",
      "metadata": {
        "id": "UyCTjKdV83Me",
        "outputId": "870bf9ce-93fb-4ce0-b2fb-d6ae4458c419",
        "colab": {
          "base_uri": "https://localhost:8080/",
          "height": 101
        }
      },
      "source": [
        "x = torch.empty(5, 3)\n",
        "print(x)"
      ],
      "execution_count": null,
      "outputs": [
        {
          "output_type": "stream",
          "text": [
            "tensor([[7.0387e-38, 0.0000e+00, 3.3631e-44],\n",
            "        [0.0000e+00,        nan, 0.0000e+00],\n",
            "        [1.1578e+27, 1.1362e+30, 7.1547e+22],\n",
            "        [4.5828e+30, 1.2121e+04, 7.1846e+22],\n",
            "        [9.2198e-39, 7.0374e+22, 1.0216e-36]])\n"
          ],
          "name": "stdout"
        }
      ]
    },
    {
      "cell_type": "code",
      "metadata": {
        "id": "EmpMM4L489S_",
        "outputId": "c949496a-8374-4979-b948-1f4658e907b4",
        "colab": {
          "base_uri": "https://localhost:8080/",
          "height": 101
        }
      },
      "source": [
        "x = torch.rand(5,3)\n",
        "print(x)"
      ],
      "execution_count": null,
      "outputs": [
        {
          "output_type": "stream",
          "text": [
            "tensor([[0.6056, 0.6231, 0.8146],\n",
            "        [0.6464, 0.3346, 0.8092],\n",
            "        [0.1655, 0.6862, 0.8288],\n",
            "        [0.5957, 0.6959, 0.4083],\n",
            "        [0.0624, 0.8210, 0.9526]])\n"
          ],
          "name": "stdout"
        }
      ]
    },
    {
      "cell_type": "code",
      "metadata": {
        "id": "Vao9st2x9BK_",
        "outputId": "56a3be3b-4b72-4eb0-b968-942dcf316a35",
        "colab": {
          "base_uri": "https://localhost:8080/",
          "height": 101
        }
      },
      "source": [
        "x = torch.zeros(5,3,dtype=torch.long)\n",
        "print(x)"
      ],
      "execution_count": null,
      "outputs": [
        {
          "output_type": "stream",
          "text": [
            "tensor([[0, 0, 0],\n",
            "        [0, 0, 0],\n",
            "        [0, 0, 0],\n",
            "        [0, 0, 0],\n",
            "        [0, 0, 0]])\n"
          ],
          "name": "stdout"
        }
      ]
    },
    {
      "cell_type": "code",
      "metadata": {
        "id": "-7i7f-sh9QDL",
        "outputId": "73c59365-1454-4eeb-b9ad-6ada960a512f",
        "colab": {
          "base_uri": "https://localhost:8080/",
          "height": 34
        }
      },
      "source": [
        "x = torch.tensor([8.3,7])\n",
        "print(x)"
      ],
      "execution_count": null,
      "outputs": [
        {
          "output_type": "stream",
          "text": [
            "tensor([8.3000, 7.0000])\n"
          ],
          "name": "stdout"
        }
      ]
    },
    {
      "cell_type": "code",
      "metadata": {
        "id": "v1ci1HMk9blr",
        "outputId": "0bdeb170-1ee8-4932-87a9-a464dd364495",
        "colab": {
          "base_uri": "https://localhost:8080/",
          "height": 101
        }
      },
      "source": [
        "x = x.new_ones(5, 3, dtype=torch.double)      # new_* methods take in sizes\n",
        "print(x)"
      ],
      "execution_count": null,
      "outputs": [
        {
          "output_type": "stream",
          "text": [
            "tensor([[1., 1., 1.],\n",
            "        [1., 1., 1.],\n",
            "        [1., 1., 1.],\n",
            "        [1., 1., 1.],\n",
            "        [1., 1., 1.]], dtype=torch.float64)\n"
          ],
          "name": "stdout"
        }
      ]
    },
    {
      "cell_type": "code",
      "metadata": {
        "id": "nK5w6ov599Nu",
        "outputId": "9468c6fd-1a45-4b75-b058-467ddfebf7a4",
        "colab": {
          "base_uri": "https://localhost:8080/",
          "height": 101
        }
      },
      "source": [
        "x = torch.randn_like(x, dtype=torch.float)    # override dtype!\n",
        "print(x)                                      # result has the same size"
      ],
      "execution_count": null,
      "outputs": [
        {
          "output_type": "stream",
          "text": [
            "tensor([[ 0.6038,  0.0873, -2.8064],\n",
            "        [-0.2981,  0.3904, -0.9491],\n",
            "        [ 0.6337,  0.5068, -0.8099],\n",
            "        [-0.0834, -0.8213, -0.2911],\n",
            "        [ 0.8932,  0.8627, -0.2089]])\n"
          ],
          "name": "stdout"
        }
      ]
    },
    {
      "cell_type": "code",
      "metadata": {
        "id": "rO0jjtrr-Ien",
        "outputId": "994169d6-5ae1-4d46-836b-1673b31d1ba8",
        "colab": {
          "base_uri": "https://localhost:8080/",
          "height": 34
        }
      },
      "source": [
        "print(x.size())"
      ],
      "execution_count": null,
      "outputs": [
        {
          "output_type": "stream",
          "text": [
            "torch.Size([5, 3])\n"
          ],
          "name": "stdout"
        }
      ]
    },
    {
      "cell_type": "code",
      "metadata": {
        "id": "uhQwmaJl-ljH"
      },
      "source": [
        "y = torch.rand(5,3)"
      ],
      "execution_count": null,
      "outputs": []
    },
    {
      "cell_type": "code",
      "metadata": {
        "id": "yNk8ksfx-Wg-",
        "outputId": "e21decc0-74de-4bdb-a672-836309643fb8",
        "colab": {
          "base_uri": "https://localhost:8080/",
          "height": 101
        }
      },
      "source": [
        "print(torch.add(x, y))"
      ],
      "execution_count": null,
      "outputs": [
        {
          "output_type": "stream",
          "text": [
            "tensor([[ 1.4854,  0.7964, -2.2414],\n",
            "        [ 0.5430,  1.1504, -0.2192],\n",
            "        [ 1.2700,  0.5120, -0.4062],\n",
            "        [ 0.1573, -0.2153, -0.0470],\n",
            "        [ 0.9022,  1.5500,  0.4985]])\n"
          ],
          "name": "stdout"
        }
      ]
    },
    {
      "cell_type": "code",
      "metadata": {
        "id": "x69oSIC5-jxD",
        "outputId": "528034d3-41ed-4bfe-c094-204067115db0",
        "colab": {
          "base_uri": "https://localhost:8080/",
          "height": 101
        }
      },
      "source": [
        "#Addition: providing an output tensor as argument\n",
        "result = torch.empty(5, 3)\n",
        "torch.add(x, y, out=result)\n",
        "print(result)"
      ],
      "execution_count": null,
      "outputs": [
        {
          "output_type": "stream",
          "text": [
            "tensor([[ 1.4854,  0.7964, -2.2414],\n",
            "        [ 0.5430,  1.1504, -0.2192],\n",
            "        [ 1.2700,  0.5120, -0.4062],\n",
            "        [ 0.1573, -0.2153, -0.0470],\n",
            "        [ 0.9022,  1.5500,  0.4985]])\n"
          ],
          "name": "stdout"
        }
      ]
    },
    {
      "cell_type": "code",
      "metadata": {
        "id": "hJ9EhltN-z9A",
        "outputId": "86839c57-d4b9-4778-d391-da33ee28ed02",
        "colab": {
          "base_uri": "https://localhost:8080/",
          "height": 101
        }
      },
      "source": [
        "# Addition: in-place\n",
        "y.add_(x)\n",
        "print(y)"
      ],
      "execution_count": null,
      "outputs": [
        {
          "output_type": "stream",
          "text": [
            "tensor([[ 1.4854,  0.7964, -2.2414],\n",
            "        [ 0.5430,  1.1504, -0.2192],\n",
            "        [ 1.2700,  0.5120, -0.4062],\n",
            "        [ 0.1573, -0.2153, -0.0470],\n",
            "        [ 0.9022,  1.5500,  0.4985]])\n"
          ],
          "name": "stdout"
        }
      ]
    },
    {
      "cell_type": "code",
      "metadata": {
        "id": "8HWVkBXB-8Wy",
        "outputId": "34e11d01-9039-4227-f3e2-e8bdbe9ea786",
        "colab": {
          "base_uri": "https://localhost:8080/",
          "height": 34
        }
      },
      "source": [
        "print(x[:,1])"
      ],
      "execution_count": null,
      "outputs": [
        {
          "output_type": "stream",
          "text": [
            "tensor([ 0.0873,  0.3904,  0.5068, -0.8213,  0.8627])\n"
          ],
          "name": "stdout"
        }
      ]
    },
    {
      "cell_type": "code",
      "metadata": {
        "id": "I5PRzibT_Lod",
        "outputId": "b9d5df8e-0800-4ab6-cde0-96856b039db1",
        "colab": {
          "base_uri": "https://localhost:8080/",
          "height": 34
        }
      },
      "source": [
        "# Resizing: If you want to resize/reshape tensor, you can use torch.view:\n",
        "\n",
        "x = torch.randn(4, 4)\n",
        "y = x.view(16)\n",
        "z = x.view(-1, 8)  # the size -1 is inferred from other dimensions\n",
        "print(x.size(), y.size(), z.size())"
      ],
      "execution_count": null,
      "outputs": [
        {
          "output_type": "stream",
          "text": [
            "torch.Size([4, 4]) torch.Size([16]) torch.Size([2, 8])\n"
          ],
          "name": "stdout"
        }
      ]
    },
    {
      "cell_type": "code",
      "metadata": {
        "id": "hQNF5y-U_0JJ",
        "outputId": "1d34071b-1573-4260-f59f-6b584b7970b5",
        "colab": {
          "base_uri": "https://localhost:8080/",
          "height": 84
        }
      },
      "source": [
        "# Converting a Torch Tensor to a NumPy Array\n",
        "\n",
        "a = torch.ones(5)\n",
        "print(a)\n",
        "\n",
        "b = a.numpy()\n",
        "print(b)\n",
        "\n",
        "a.add_(1)\n",
        "print(a)\n",
        "print(b)"
      ],
      "execution_count": null,
      "outputs": [
        {
          "output_type": "stream",
          "text": [
            "tensor([1., 1., 1., 1., 1.])\n",
            "[1. 1. 1. 1. 1.]\n",
            "tensor([2., 2., 2., 2., 2.])\n",
            "[2. 2. 2. 2. 2.]\n"
          ],
          "name": "stdout"
        }
      ]
    },
    {
      "cell_type": "code",
      "metadata": {
        "id": "mD-3H1SNAKIS",
        "outputId": "67655ea9-3e00-4c79-9f81-3f229dade9c6",
        "colab": {
          "base_uri": "https://localhost:8080/",
          "height": 50
        }
      },
      "source": [
        "# Converting NumPy Array to Torch Tensor\n",
        "import numpy as np\n",
        "\n",
        "a = np.ones(5)\n",
        "b = torch.from_numpy(a)\n",
        "np.add(a, 1, out=a)\n",
        "print(a)\n",
        "print(b)"
      ],
      "execution_count": null,
      "outputs": [
        {
          "output_type": "stream",
          "text": [
            "[2. 2. 2. 2. 2.]\n",
            "tensor([2., 2., 2., 2., 2.], dtype=torch.float64)\n"
          ],
          "name": "stdout"
        }
      ]
    },
    {
      "cell_type": "code",
      "metadata": {
        "id": "FuVRO2hpBkFd",
        "outputId": "46d5f92f-32e6-4455-9eaa-6a2633221ed6",
        "colab": {
          "base_uri": "https://localhost:8080/",
          "height": 101
        }
      },
      "source": [
        "#Creating Tensor on GPU\n",
        "\n",
        "if torch.cuda.is_available():\n",
        "  device = torch.device(\"cuda\")\n",
        "  x = torch.ones(5,3,device=device)\n",
        "  y= torch.rand(5,3)\n",
        "  y = y.to(device)\n",
        "  z=x+y\n",
        "  print(z)\n",
        "  z =z.to(\"cpu\")\n",
        "  z.numpy()\n",
        "\n"
      ],
      "execution_count": null,
      "outputs": [
        {
          "output_type": "stream",
          "text": [
            "tensor([[1.9463, 1.9703, 1.9910],\n",
            "        [1.5083, 1.3066, 1.1388],\n",
            "        [1.7732, 1.9666, 1.7378],\n",
            "        [1.8356, 1.0721, 1.3505],\n",
            "        [1.2361, 1.7187, 1.3256]], device='cuda:0')\n"
          ],
          "name": "stdout"
        }
      ]
    },
    {
      "cell_type": "code",
      "metadata": {
        "id": "uJrPMT7wCThm",
        "outputId": "bb321536-53bd-4d71-df6c-a7675f08df85",
        "colab": {
          "base_uri": "https://localhost:8080/",
          "height": 101
        }
      },
      "source": [
        "x= torch.rand(5,3,requires_grad=True)\n",
        "print(x)"
      ],
      "execution_count": null,
      "outputs": [
        {
          "output_type": "stream",
          "text": [
            "tensor([[0.1502, 0.3157, 0.7782],\n",
            "        [0.1113, 0.3197, 0.9703],\n",
            "        [0.1254, 0.0891, 0.2787],\n",
            "        [0.1842, 0.3200, 0.0169],\n",
            "        [0.0665, 0.9739, 0.6254]], requires_grad=True)\n"
          ],
          "name": "stdout"
        }
      ]
    }
  ]
}